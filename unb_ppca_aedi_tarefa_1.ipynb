{
 "cells": [
  {
   "cell_type": "markdown",
   "metadata": {
    "id": "lbYd58tT1SJo"
   },
   "source": [
    "Universidade de Brasília - UnB\n",
    "\n",
    "Mestrado Profissional em Computação Aplicada - MPCA\n",
    "\n",
    "Disciplina: **Análise Estatístia de Dados e Informações - AEDI**\n",
    "\n",
    "Professor: **João Gabriel de Moraes Souza**\n",
    "\n",
    "Aluno: **Felipe Schiavon de Oliveira** (matrícula: 20/0077104)"
   ]
  },
  {
   "cell_type": "markdown",
   "metadata": {
    "id": "9ATBEjuX12c_"
   },
   "source": [
    "## Tarefa 1"
   ]
  },
  {
   "cell_type": "markdown",
   "metadata": {
    "id": "v_GOSMmb170z"
   },
   "source": [
    "**Caixas de Remédio em Farmácia**\n",
    "\n",
    "Digamos que o número de caixa de remédios cardíacos de farmácia popular é geralmente distribuído por uma distribuição normal com média de 100 caixas por dia e desvio-padrão de 15 caixas. A proporção de caixas por dia fundamental para a continuidade do funcionamento da farmácia popular está no intervalo entre 80 e 120. Qual é a proporção esperada de caixas por dia que possuem intervalo entre 80 e 120?"
   ]
  },
  {
   "cell_type": "code",
   "execution_count": null,
   "metadata": {
    "id": "JF5-Cem60xHH"
   },
   "outputs": [],
   "source": [
    "# Dados do exercício\n",
    "mean = 100\n",
    "sd = 15"
   ]
  },
  {
   "cell_type": "markdown",
   "metadata": {
    "id": "XcRYoYzP9-vv"
   },
   "source": [
    "A notação para distribuição normal padrão é a seguinte:\n",
    "$X \\sim N(\\mu, \\sigma^2)$, em que $\\mu$ é 0 e $\\sigma^2$ é 1.\n",
    "\n",
    "Logo, na distribuição normal padrão temos que: $X \\sim N(0, 1)$"
   ]
  },
  {
   "cell_type": "markdown",
   "metadata": {
    "id": "DVi74aF5-LkM"
   },
   "source": [
    "## Cálculo detalhado"
   ]
  },
  {
   "cell_type": "markdown",
   "metadata": {
    "id": "fMuFUb6f3pLW"
   },
   "source": [
    "**Fórmula inicial para cálculo**\n",
    "\n",
    "$\\mathbb{P}(80 \\leq X \\leq 120) = \\mathbb{P}(X \\leq 120) - \\mathbb{P}(X \\leq 80)$\n",
    "\n",
    "\n",
    "Para trabalhar com a distribuição normal padrão, precisamos reduzir a variável X para uma variável Z:\n",
    "\n",
    "$z = \\frac {x-\\mu} {\\sigma}$\n",
    "\n",
    "\n",
    "**Parte 1 - Limite superior**\n",
    "\n",
    "Calcular probabilidade de X ser menor que 120.\n",
    "\n",
    "$\\mathbb{P}(X \\leq 120) = \\mathbb{P}(z \\leq \\frac {120-100}{15})$\n",
    "\n",
    "\n",
    "**Parte 2 - Limite inferior**\n",
    "\n",
    "Calcular probabilidade de X ser menor que 80.\n",
    "\n",
    "$\\mathbb{P}(X \\leq 80) = \\mathbb{P}(z \\leq \\frac {80-100}{15})$\n",
    "\n",
    "\n",
    "**Parte 3 - Intervalo ou diferença**\n",
    "\n",
    "Calcular $\\mathbb{P}(z \\leq \\frac {120-100}{15}) - \\mathbb{P}(z \\leq \\frac {80-100}{15})$\n",
    "\n"
   ]
  },
  {
   "cell_type": "code",
   "execution_count": null,
   "metadata": {
    "colab": {
     "base_uri": "https://localhost:8080/"
    },
    "id": "X6R9S2qOE-uG",
    "outputId": "d7d5dc85-fc80-413d-e5c2-44b403ecfcab"
   },
   "outputs": [
    {
     "name": "stdout",
     "output_type": "stream",
     "text": [
      "z1 = 1.3333333333333333\n",
      "z2 = -1.3333333333333333\n",
      "Probabilidade z1 é 0.9088\n",
      "Probabilidadez2 é 0.0912\n",
      "Probabilide do intervalo é 0.8176\n"
     ]
    }
   ],
   "source": [
    "# Importando pacote\n",
    "import scipy.stats as st\n",
    "\n",
    "# Dados\n",
    "x1 = 120\n",
    "x2 = 80\n",
    "\n",
    "# Cálculo Parte 1\n",
    "z1 = (x1 - mean)/sd\n",
    "print(\"z1 =\", z1)\n",
    "\n",
    "# Parte Parte 2\n",
    "z2 = (x2 - mean)/sd\n",
    "print(\"z2 =\", z2)\n",
    "\n",
    "# Parte Parte 3\n",
    "# Cálculo da probabilidade associada ao valor de z1\n",
    "p_z1 = st.norm.cdf(z1)\n",
    "print(\"Probabilidade z1 é\", round(p_z1, 4))\n",
    "\n",
    "# Cálculo da probabilidade associada ao valor de z2\n",
    "p_z2 = st.norm.cdf(z2)\n",
    "print(\"Probabilidade z2 é\", round(p_z2, 4))\n",
    "\n",
    "prob = round(p_z1 - p_z2, 4)\n",
    "print(\"Probabilide do intervalo é\", prob)"
   ]
  },
  {
   "cell_type": "markdown",
   "metadata": {
    "id": "TsG5DEIWKYVZ"
   },
   "source": [
    "## Cálculo simplificado"
   ]
  },
  {
   "cell_type": "code",
   "execution_count": null,
   "metadata": {
    "id": "7HLalGa0Kc9L"
   },
   "outputs": [],
   "source": [
    "# Dados do exercício\n",
    "mean = 100\n",
    "sd = 15\n",
    "x1 = 120\n",
    "x2 = 80"
   ]
  },
  {
   "cell_type": "code",
   "execution_count": null,
   "metadata": {
    "colab": {
     "base_uri": "https://localhost:8080/"
    },
    "id": "UJCSH2KCFoH1",
    "outputId": "bac28706-08f5-46b5-8fea-598149f3385b"
   },
   "outputs": [
    {
     "name": "stdout",
     "output_type": "stream",
     "text": [
      "Probabilidade z1 é 0.9088\n",
      "Probabilidade z2 é 0.0912\n",
      "Probabilide do intervalo é 0.8176\n"
     ]
    }
   ],
   "source": [
    "# Cálculo das probabilidades associadas à z1 e z2\n",
    "p_z1 = round(st.norm.cdf(x1, mean, sd), 4)\n",
    "p_z2 = round(st.norm.cdf(x2, mean, sd), 4)\n",
    "print(\"Probabilidade z1 é\", p_z1)\n",
    "print(\"Probabilidade z2 é\", p_z2)\n",
    "\n",
    "# Cálculo da probabilidade do intervalo\n",
    "print(\"Probabilide do intervalo é\", (round(p_z1 - p_z2, 4)))"
   ]
  },
  {
   "cell_type": "markdown",
   "metadata": {
    "id": "WNZ3WZjbQhQE"
   },
   "source": [
    "## Gráfico"
   ]
  },
  {
   "cell_type": "code",
   "execution_count": null,
   "metadata": {
    "id": "PRzs5si2OS9o"
   },
   "outputs": [],
   "source": [
    "# Importando pacotes\n",
    "import numpy as np\n",
    "import matplotlib.pyplot as plt\n",
    "import seaborn as sns"
   ]
  },
  {
   "cell_type": "code",
   "execution_count": null,
   "metadata": {
    "id": "nLR_QRoKVlnH"
   },
   "outputs": [],
   "source": [
    "# Gerando mil valores para distribuição normal\n",
    "np.random.seed(10)\n",
    "seq = np.random.normal(mean, sd, 2000)"
   ]
  },
  {
   "cell_type": "code",
   "execution_count": null,
   "metadata": {
    "colab": {
     "base_uri": "https://localhost:8080/"
    },
    "id": "VDLuY0wXNcXd",
    "outputId": "49c712b2-d784-4590-d555-ef3c97b6966a"
   },
   "outputs": [
    {
     "name": "stdout",
     "output_type": "stream",
     "text": [
      "[119.97379756 110.72918462  76.81899562 ... 105.58350077 109.18369293\n",
      " 125.65412602]\n"
     ]
    }
   ],
   "source": [
    "print(seq)"
   ]
  },
  {
   "cell_type": "code",
   "execution_count": null,
   "metadata": {
    "colab": {
     "base_uri": "https://localhost:8080/",
     "height": 310
    },
    "id": "bi-oY0lKUAzI",
    "outputId": "2a7b6663-06b8-4a54-addf-ec99c7f51d5d"
   },
   "outputs": [
    {
     "data": {
      "image/png": "[encoded data removed]",
      "text/plain": [
       "<Figure size 432x288 with 1 Axes>"
      ]
     },
     "metadata": {
      "needs_background": "light",
      "tags": []
     },
     "output_type": "display_data"
    }
   ],
   "source": [
    "# Criando o gráfico com histplot()\n",
    "\n",
    "ax = sns.histplot(seq, kde=True, stat=\"density\", linewidth=0, color='#000000', fill=False)\n",
    "ax.set(title='Distribuição Normal \\n P(80 <= CX <= 120) = 0.8176',\n",
    "       xlabel='Quantidade de CX', ylabel='Densidade')\n",
    "\n",
    "# Plotando as linhas limite\n",
    "p1 = plt.axvline(x=x1,color='#EF9A9A')\n",
    "p2 = plt.axvline(x=x2,color='#EF9A9A')\n",
    "\n",
    "# Preenchendo a área delimitada\n",
    "kde_x, kde_y = ax.get_lines()[0].get_data()\n",
    "ax.fill_between(kde_x, kde_y, where=(kde_x < x1), color='#FF0000')\n",
    "ax.fill_between(kde_x, kde_y, where=(kde_x < x2), color='#FFFFFF')\n",
    "\n",
    "# Mostrando o gráfico\n",
    "plt.show()"
   ]
  }
 ],
 "metadata": {
  "colab": {
   "name": "unb-ppca-aedi-exercicio-1.ipynb",
   "provenance": []
  },
  "kernelspec": {
   "display_name": "Python 3",
   "language": "python",
   "name": "python3"
  },
  "language_info": {
   "codemirror_mode": {
    "name": "ipython",
    "version": 3
   },
   "file_extension": ".py",
   "mimetype": "text/x-python",
   "name": "python",
   "nbconvert_exporter": "python",
   "pygments_lexer": "ipython3",
   "version": "3.7.6"
  }
 },
 "nbformat": 4,
 "nbformat_minor": 1
}
