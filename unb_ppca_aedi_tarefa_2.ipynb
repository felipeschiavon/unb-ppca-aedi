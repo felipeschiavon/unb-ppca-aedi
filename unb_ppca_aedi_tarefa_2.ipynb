{
 "cells": [
  {
   "cell_type": "markdown",
   "metadata": {
    "id": "lbYd58tT1SJo"
   },
   "source": [
    "Universidade de Brasília - UnB\n",
    "\n",
    "Mestrado Profissional em Computação Aplicada - MPCA\n",
    "\n",
    "Disciplina: **Análise Estatístia de Dados e Informações - AEDI**\n",
    "\n",
    "Professor: **João Gabriel de Moraes Souza**\n",
    "\n",
    "Aluno: **Felipe Schiavon de Oliveira** (matrícula: 20/0077104)"
   ]
  },
  {
   "cell_type": "markdown",
   "metadata": {
    "id": "9ATBEjuX12c_"
   },
   "source": [
    "## Tarefa 2"
   ]
  },
  {
   "cell_type": "markdown",
   "metadata": {
    "id": "v_GOSMmb170z"
   },
   "source": [
    "**Gerar Exemplo Aplicado ou Simulado de uma Distribuição de Probabilidade**\n",
    "\n",
    "Gerar um relatório com pelo menos um exemplo de uma distribuição de probabilidades apresentadas, bem como apresentar os principais conceitos da distribuição e seus parâmetros."
   ]
  },
  {
   "cell_type": "markdown",
   "metadata": {
    "id": "LEVj9_gfIojX"
   },
   "source": [
    "## Distribuição Uniforme Contínua"
   ]
  },
  {
   "cell_type": "markdown",
   "metadata": {
    "id": "nbyU0L9qI8zA"
   },
   "source": [
    "Uma variável $X$ possui distribuição uniforme contínua quando todos os valores no intervalo $[a, b]$ tem a mesma chance de ocorrer."
   ]
  },
  {
   "cell_type": "markdown",
   "metadata": {
    "id": "6_mjWZ4XKrdj"
   },
   "source": [
    "**Atributos**\n",
    "\n",
    "Função:\n",
    "$ fx(X = x) = \\frac{1}{(b-a)} $\n",
    "\n",
    "Valor esperado:\n",
    "$ \\mathbb{E}(X) = \\frac{(a+b)}{2} $\n",
    "\n",
    "Variância:\n",
    "$ \\mathbb{V}(X) = \\frac{(b-a)^2}{12} $"
   ]
  },
  {
   "cell_type": "code",
   "execution_count": 1,
   "metadata": {
    "id": "1XO9XjovLnBZ"
   },
   "outputs": [],
   "source": [
    "# Importando pacotes\n",
    "import numpy as np\n",
    "import matplotlib.pyplot as plt\n",
    "import seaborn as sns"
   ]
  },
  {
   "cell_type": "code",
   "execution_count": 2,
   "metadata": {
    "colab": {
     "base_uri": "https://localhost:8080/",
     "height": 0
    },
    "id": "AJo_BA_ZK5gU",
    "outputId": "21aa93c2-525a-4120-8937-b4fce783c498"
   },
   "outputs": [
    {
     "name": "stdout",
     "output_type": "stream",
     "text": [
      "Valores aleatórios entre -5 e 3:\n",
      "[-4.38953369  1.23935034 -1.49272615 ...  2.50421963 -4.68517247\n",
      "  0.18865356]\n"
     ]
    }
   ],
   "source": [
    "# Geração de valores\n",
    "a = -5.0\n",
    "b = 3.0\n",
    "n = 2000\n",
    "np.random.seed(7)\n",
    "x = np.random.uniform(a,b,n)\n",
    "print(\"Valores aleatórios entre -5 e 3:\")\n",
    "print(x)"
   ]
  },
  {
   "cell_type": "code",
   "execution_count": 3,
   "metadata": {
    "colab": {
     "base_uri": "https://localhost:8080/",
     "height": 0
    },
    "id": "NEGRyxsPSjVv",
    "outputId": "f175dc54-830e-4aee-d379-ff90647ca04e",
    "scrolled": true
   },
   "outputs": [
    {
     "name": "stdout",
     "output_type": "stream",
     "text": [
      "Valor da probabilidade: 0.125\n"
     ]
    }
   ],
   "source": [
    "# Valor da função de probabilidade\n",
    "func = 1/(b-a)\n",
    "print(\"Valor da probabilidade:\", func)"
   ]
  },
  {
   "cell_type": "code",
   "execution_count": 4,
   "metadata": {
    "colab": {
     "base_uri": "https://localhost:8080/",
     "height": 0
    },
    "id": "UI5JsktTSZ9q",
    "outputId": "ca8b4bd6-c974-4d92-bee4-50c8e50ab446"
   },
   "outputs": [
    {
     "name": "stdout",
     "output_type": "stream",
     "text": [
      "Valor esperado: -1.0\n"
     ]
    }
   ],
   "source": [
    "# Valor esperado\n",
    "vesp = (a+b)/2\n",
    "print(\"Valor esperado:\", vesp)"
   ]
  },
  {
   "cell_type": "code",
   "execution_count": 5,
   "metadata": {
    "colab": {
     "base_uri": "https://localhost:8080/",
     "height": 0
    },
    "id": "03zSTADdS24m",
    "outputId": "54cca5ad-e98a-4cc6-9173-db1643db51c9"
   },
   "outputs": [
    {
     "name": "stdout",
     "output_type": "stream",
     "text": [
      "Variância: 5.33\n"
     ]
    }
   ],
   "source": [
    "# Variância\n",
    "var = (b-a)**2/12\n",
    "print(\"Variância:\", round(var, 2))"
   ]
  },
  {
   "cell_type": "code",
   "execution_count": 6,
   "metadata": {
    "colab": {
     "base_uri": "https://localhost:8080/",
     "height": 0
    },
    "id": "TwS-G7RTTVBe",
    "outputId": "6a5bf1fa-a63d-4add-f51e-60b30f7eba2f"
   },
   "outputs": [],
   "source": [
    "# Criando valores da probabilidade da distribuição uniforme contínua para\n",
    "# valores de X\n",
    "\n",
    "def dunif(x, minimo=0, maximo=1):\n",
    "    from scipy.stats import uniform\n",
    "    result=uniform.pdf(x=x,loc=minimo,scale=maximo-minimo)\n",
    "    return result\n",
    "\n",
    "seq = dunif(x, a, b)"
   ]
  },
  {
   "cell_type": "code",
   "execution_count": 7,
   "metadata": {
    "colab": {
     "base_uri": "https://localhost:8080/",
     "height": 295
    },
    "id": "ynjsi9Gsghrq",
    "outputId": "08193575-ea07-4a82-ceed-9c04157b3322"
   },
   "outputs": [
    {
     "data": {
      "image/png": "[encoded data removed]",
      "text/plain": [
       "<Figure size 432x288 with 1 Axes>"
      ]
     },
     "metadata": {
      "needs_background": "light"
     },
     "output_type": "display_data"
    }
   ],
   "source": [
    "# Criando o gráfico do histograma e da curva\n",
    "\n",
    "plt.hist(x, density=True, facecolor='blue', alpha=0.7)\n",
    "plt.plot(x, seq, linewidth=2, color='r')\n",
    "\n",
    "# Aumentando limite à esquerda e à direita do eixo das ordenadas e inserindo grid\n",
    "\n",
    "plt.xlim(right=4)\n",
    "plt.xlim(left=-6)\n",
    "plt.grid(True)\n",
    "\n",
    "# Mostrando o gráfico\n",
    "plt.title(\"Distribuição Uniforme Contínua no Intervalo [-3, 5]\")\n",
    "plt.xlabel(\"Valores (x)\")\n",
    "plt.ylabel(\"Densidade\")\n",
    "plt.show()"
   ]
  },
  {
   "cell_type": "markdown",
   "metadata": {
    "id": "3WeUZuOytiAt"
   },
   "source": [
    "O histograma representa a distribuição dos valores da variável $X$.\n",
    "\n",
    "A curva/linha vermelha representa a probabilidade de ocorrência dos valores, que é a mesma considerando tratar-se de uma distribuição uniforme contínua.\n",
    "\n",
    "Dessa forma, a área abaixo da curva corresponde à probabilidade total, ou seja, a 1."
   ]
  },
  {
   "cell_type": "code",
   "execution_count": 9,
   "metadata": {
    "colab": {
     "base_uri": "https://localhost:8080/",
     "height": 295
    },
    "id": "wVAxfKtUQxIT",
    "outputId": "99309324-3641-442e-fa27-4d4fd1407e7e",
    "scrolled": true
   },
   "outputs": [
    {
     "data": {
      "image/png": "[encoded data removed]",
      "text/plain": [
       "<Figure size 432x288 with 1 Axes>"
      ]
     },
     "metadata": {
      "needs_background": "light"
     },
     "output_type": "display_data"
    }
   ],
   "source": [
    "# Criando o gráfico com a curva de densidade de probabilidade contínua acumulada\n",
    "ax2 = sns.kdeplot(x, shade=None, cumulative=True, fill=True, bw_method=0.001)\n",
    "ax2.set(title='Distribuição Uniforme Contínua Acumulada do Intervalo [-3, 5]',\n",
    "        xlabel='Valores (x)', ylabel='Densidade acumulada')\n",
    "\n",
    "# Aumentando limite à esquerda e à direita do eixo das ordenadas\n",
    "\n",
    "plt.xlim(right=4)\n",
    "plt.xlim(left=-6)\n",
    "\n",
    "# Mostrando o gráfico\n",
    "plt.show()"
   ]
  },
  {
   "cell_type": "markdown",
   "metadata": {},
   "source": [
    "A curva representa a distribuição acumulada da probabilidade dos valores da variável 𝑋, variando de 0 (menor valor) a 1 (maior valor)."
   ]
  }
 ],
 "metadata": {
  "colab": {
   "collapsed_sections": [],
   "name": "unb-ppca-aedi-tarefa-2.ipynb",
   "provenance": []
  },
  "kernelspec": {
   "display_name": "Python 3",
   "language": "python",
   "name": "python3"
  },
  "language_info": {
   "codemirror_mode": {
    "name": "ipython",
    "version": 3
   },
   "file_extension": ".py",
   "mimetype": "text/x-python",
   "name": "python",
   "nbconvert_exporter": "python",
   "pygments_lexer": "ipython3",
   "version": "3.7.6"
  }
 },
 "nbformat": 4,
 "nbformat_minor": 1
}
