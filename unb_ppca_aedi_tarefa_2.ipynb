{
 "cells": [
  {
   "cell_type": "markdown",
   "metadata": {
    "id": "lbYd58tT1SJo"
   },
   "source": [
    "# Universidade de Brasília - UnB\n",
    "\n",
    "## Mestrado Profissional em Computação Aplicada - MPCA\n",
    "\n",
    "Disciplina: **Análise Estatístia de Dados e Informações - AEDI**  \n",
    "Professor: **João Gabriel de Moraes Souza**  \n",
    "Aluno: **Felipe Schiavon de Oliveira** (matrícula: 20/0077104)"
   ]
  },
  {
   "cell_type": "markdown",
   "metadata": {
    "id": "9ATBEjuX12c_"
   },
   "source": [
    "## Tarefa 2"
   ]
  },
  {
   "cell_type": "markdown",
   "metadata": {
    "id": "v_GOSMmb170z"
   },
   "source": [
    "**Gerar Exemplo Aplicado ou Simulado de uma Distribuição de Probabilidade**\n",
    "\n",
    "Gerar um relatório com pelo menos um exemplo de uma distribuição de probabilidades apresentadas, bem como apresentar os principais conceitos da distribuição e seus parâmetros."
   ]
  },
  {
   "cell_type": "markdown",
   "metadata": {
    "id": "LEVj9_gfIojX"
   },
   "source": [
    "### Distribuição Contínua Uniforme"
   ]
  },
  {
   "cell_type": "markdown",
   "metadata": {
    "id": "nbyU0L9qI8zA"
   },
   "source": [
    "Uma variável $X$ possui distribuição uniforme contínua quando todos os valores no intervalo $[a, b]$ tem a mesma chance de ocorrer. Assim, a probabilidade de gerar qualquer ponto em um intervalo contido no espaço amostral é proporcional ao tamanho do intervalo.\n",
    "\n",
    "Se $X$ é uma variável contínua uniforme no intervalo $ [a, b] $, ou seja, $ a  \\le x  \\le b $, teremos:\n",
    "\n",
    "**Função densidade de probabilidade**  \n",
    "$ fx(X = x) = \\frac{1}{(b-a)} $\n",
    "\n",
    "**Valor esperado**  \n",
    "$ \\mathbb{E}(X) = \\frac{(a+b)}{2} $\n",
    "\n",
    "**Variância**  \n",
    "$ \\mathbb{V}(X) = \\frac{(b-a)^2}{12} $"
   ]
  },
  {
   "cell_type": "markdown",
   "metadata": {},
   "source": [
    "## Simulação com valores aleatórios"
   ]
  },
  {
   "cell_type": "code",
   "execution_count": 1,
   "metadata": {
    "id": "1XO9XjovLnBZ"
   },
   "outputs": [],
   "source": [
    "# Importando pacotes\n",
    "import numpy as np\n",
    "import matplotlib.pyplot as plt\n",
    "import seaborn as sns"
   ]
  },
  {
   "cell_type": "code",
   "execution_count": 2,
   "metadata": {
    "colab": {
     "base_uri": "https://localhost:8080/",
     "height": 0
    },
    "id": "AJo_BA_ZK5gU",
    "outputId": "21aa93c2-525a-4120-8937-b4fce783c498"
   },
   "outputs": [
    {
     "name": "stdout",
     "output_type": "stream",
     "text": [
      "Valores aleatórios entre -5 e 3:\n",
      "[-4.38953369  1.23935034 -1.49272615 ...  2.50421963 -4.68517247\n",
      "  0.18865356]\n"
     ]
    }
   ],
   "source": [
    "# Geração de 2000 valores aleatórios entre -5.0 e 3.0\n",
    "a = -5.0\n",
    "b = 3.0\n",
    "n = 2000\n",
    "np.random.seed(7)\n",
    "x = np.random.uniform(a,b,n)\n",
    "print(\"Valores aleatórios entre -5 e 3:\")\n",
    "print(x)"
   ]
  },
  {
   "cell_type": "code",
   "execution_count": 3,
   "metadata": {
    "colab": {
     "base_uri": "https://localhost:8080/",
     "height": 0
    },
    "id": "NEGRyxsPSjVv",
    "outputId": "f175dc54-830e-4aee-d379-ff90647ca04e",
    "scrolled": true
   },
   "outputs": [
    {
     "name": "stdout",
     "output_type": "stream",
     "text": [
      "Valor da probabilidade: 0.125\n"
     ]
    }
   ],
   "source": [
    "# Cálculo da função de probabilidade\n",
    "func = 1/(b-a)\n",
    "print(\"Valor da probabilidade:\", func)"
   ]
  },
  {
   "cell_type": "code",
   "execution_count": 4,
   "metadata": {
    "colab": {
     "base_uri": "https://localhost:8080/",
     "height": 0
    },
    "id": "UI5JsktTSZ9q",
    "outputId": "ca8b4bd6-c974-4d92-bee4-50c8e50ab446"
   },
   "outputs": [
    {
     "name": "stdout",
     "output_type": "stream",
     "text": [
      "Valor esperado: -1.0\n"
     ]
    }
   ],
   "source": [
    "# Cálculo do valor esperado\n",
    "vesp = (a+b)/2\n",
    "print(\"Valor esperado:\", vesp)"
   ]
  },
  {
   "cell_type": "code",
   "execution_count": 5,
   "metadata": {
    "colab": {
     "base_uri": "https://localhost:8080/",
     "height": 0
    },
    "id": "03zSTADdS24m",
    "outputId": "54cca5ad-e98a-4cc6-9173-db1643db51c9"
   },
   "outputs": [
    {
     "name": "stdout",
     "output_type": "stream",
     "text": [
      "Variância: 5.33\n"
     ]
    }
   ],
   "source": [
    "# Cálculo da variância\n",
    "var = (b-a)**2/12\n",
    "print(\"Variância:\", round(var, 2))"
   ]
  },
  {
   "cell_type": "code",
   "execution_count": 6,
   "metadata": {
    "colab": {
     "base_uri": "https://localhost:8080/",
     "height": 0
    },
    "id": "TwS-G7RTTVBe",
    "outputId": "6a5bf1fa-a63d-4add-f51e-60b30f7eba2f"
   },
   "outputs": [],
   "source": [
    "# Criando valores da probabilidade da distribuição uniforme contínua para valores de X\n",
    "def dunif(x, minimo=0, maximo=1):\n",
    "    from scipy.stats import uniform\n",
    "    result=uniform.pdf(x=x,loc=minimo,scale=maximo-minimo)\n",
    "    return result\n",
    "\n",
    "seq = dunif(x, a, b)"
   ]
  },
  {
   "cell_type": "code",
   "execution_count": 7,
   "metadata": {
    "colab": {
     "base_uri": "https://localhost:8080/",
     "height": 295
    },
    "id": "ynjsi9Gsghrq",
    "outputId": "08193575-ea07-4a82-ceed-9c04157b3322"
   },
   "outputs": [
    {
     "data": {
      "image/png": "[encoded data removed]",
      "text/plain": [
       "<Figure size 432x288 with 1 Axes>"
      ]
     },
     "metadata": {
      "needs_background": "light"
     },
     "output_type": "display_data"
    }
   ],
   "source": [
    "# Criando o gráfico do histograma e da curva de probabilidade\n",
    "plt.hist(x, density=True, facecolor='blue', alpha=0.7)\n",
    "plt.plot(x, seq, linewidth=2, color='r')\n",
    "\n",
    "# Aumentando limite à esquerda e à direita do eixo das ordenadas e inserindo grid\n",
    "plt.xlim(right=4)\n",
    "plt.xlim(left=-6)\n",
    "plt.grid(True)\n",
    "\n",
    "# Mostrando o gráfico\n",
    "plt.title(\"Distribuição Uniforme Contínua no Intervalo [-5, 3]\")\n",
    "plt.xlabel(\"Valores (x)\")\n",
    "plt.ylabel(\"Densidade\")\n",
    "plt.show()"
   ]
  },
  {
   "cell_type": "markdown",
   "metadata": {
    "id": "3WeUZuOytiAt"
   },
   "source": [
    "O histograma representa a distribuição dos valores da variável $ X $.\n",
    "\n",
    "A curva vermelha (que no caso específico é uma reta) representa a probabilidade de ocorrência dos valores da variável $ X $, que é a mesma considerando tratar-se de uma distribuição uniforme contínua.\n",
    "\n",
    "Dessa forma, a área abaixo da linha vermelha corresponde à probabilidade total, ou seja, a 1. Esse valor é calculado usando a integral."
   ]
  },
  {
   "cell_type": "markdown",
   "metadata": {},
   "source": [
    "### Cálculo da integral"
   ]
  },
  {
   "cell_type": "code",
   "execution_count": 8,
   "metadata": {},
   "outputs": [
    {
     "data": {
      "image/png": "[encoded data removed]",
      "text/latex": [
       "$\\displaystyle z$"
      ],
      "text/plain": [
       "z"
      ]
     },
     "execution_count": 8,
     "metadata": {},
     "output_type": "execute_result"
    }
   ],
   "source": [
    "# Importando pacotes para cálculo da integral e definindo parâmetros\n",
    "import warnings\n",
    "warnings.filterwarnings('ignore')\n",
    "from sympy import *\n",
    "init_printing()\n",
    "var('z')"
   ]
  },
  {
   "cell_type": "code",
   "execution_count": 9,
   "metadata": {},
   "outputs": [
    {
     "data": {
      "image/png": "[encoded data removed]",
      "text/latex": [
       "$\\displaystyle \\left( z \\mapsto 0.125 \\right)$"
      ],
      "text/plain": [
       "z ↦ 0.125"
      ]
     },
     "execution_count": 9,
     "metadata": {},
     "output_type": "execute_result"
    }
   ],
   "source": [
    "# Definindo a função\n",
    "f = Lambda(z, func)\n",
    "f"
   ]
  },
  {
   "cell_type": "code",
   "execution_count": 10,
   "metadata": {},
   "outputs": [
    {
     "name": "stdout",
     "output_type": "stream",
     "text": [
      "Resultado da integral:\n"
     ]
    },
    {
     "data": {
      "image/png": "[encoded data removed]",
      "text/latex": [
       "$\\displaystyle 1.0$"
      ],
      "text/plain": [
       "1.00000000000000"
      ]
     },
     "execution_count": 10,
     "metadata": {},
     "output_type": "execute_result"
    }
   ],
   "source": [
    "# Calculando a integral\n",
    "print(\"Resultado da integral:\")\n",
    "integrate(f(z), (z, a, b))"
   ]
  },
  {
   "cell_type": "markdown",
   "metadata": {},
   "source": [
    "### Curva de densidade de probabilidade contínua acumulada"
   ]
  },
  {
   "cell_type": "code",
   "execution_count": 11,
   "metadata": {
    "colab": {
     "base_uri": "https://localhost:8080/",
     "height": 295
    },
    "id": "wVAxfKtUQxIT",
    "outputId": "99309324-3641-442e-fa27-4d4fd1407e7e",
    "scrolled": true
   },
   "outputs": [
    {
     "data": {
      "image/png": "[encoded data removed]",
      "text/plain": [
       "<Figure size 432x288 with 1 Axes>"
      ]
     },
     "metadata": {
      "needs_background": "light"
     },
     "output_type": "display_data"
    }
   ],
   "source": [
    "# Criando o gráfico com a curva de densidade de probabilidade contínua acumulada\n",
    "ax2 = sns.kdeplot(x, shade=None, cumulative=True, fill=True, bw_method=0.001)\n",
    "ax2.set(title='Distribuição Uniforme Contínua Acumulada do Intervalo [-5, 3]',\n",
    "        xlabel='Valores (x)', ylabel='Densidade acumulada')\n",
    "\n",
    "# Aumentando limite à esquerda e à direita do eixo das ordenadas\n",
    "\n",
    "plt.xlim(right=4)\n",
    "plt.xlim(left=-6)\n",
    "\n",
    "# Mostrando o gráfico\n",
    "plt.show()"
   ]
  },
  {
   "cell_type": "markdown",
   "metadata": {},
   "source": [
    "A curva representa a distribuição acumulada da probabilidade dos valores da variável $ X $, variando de $ 0 $ (menor valor) a $ 1 $ (maior valor)."
   ]
  },
  {
   "cell_type": "markdown",
   "metadata": {},
   "source": [
    "## Exemplo aplicado"
   ]
  },
  {
   "cell_type": "markdown",
   "metadata": {},
   "source": [
    "- Seja $ X $ a frequência de uma nota musical.\n",
    "- $ X $ é medida em hertz (Hz).\n",
    "- A variável assume valores no intervalo **[132.0, 264.0]**.\n",
    "- Qual a probabilidade de uma nota aleatória corresponder à nota Sol, sabendo que a essa nota musical corresponde à frequência de 197,736 Hz, variando 5,544 Hz para baixo e 5,874 Hz para cima."
   ]
  },
  {
   "cell_type": "code",
   "execution_count": 12,
   "metadata": {},
   "outputs": [],
   "source": [
    "# Definindo intervalo total\n",
    "lim_i_t = 132.0\n",
    "lim_s_t = 264.0"
   ]
  },
  {
   "cell_type": "code",
   "execution_count": 13,
   "metadata": {},
   "outputs": [
    {
     "name": "stdout",
     "output_type": "stream",
     "text": [
      "Valor da probabilidade: 0.0076\n"
     ]
    }
   ],
   "source": [
    "# Cálculo da função de probabilidade\n",
    "prob_total = 1/(lim_s_t-lim_i_t)\n",
    "print(\"Valor da probabilidade:\", round(prob_total, 4))"
   ]
  },
  {
   "cell_type": "code",
   "execution_count": 14,
   "metadata": {},
   "outputs": [
    {
     "name": "stdout",
     "output_type": "stream",
     "text": [
      "Frequência da nota Sol: 197.736\n",
      "Limite inferior da nota Sol: 192.192\n",
      "Limite superior da nota Sol: 203.61\n"
     ]
    }
   ],
   "source": [
    "# Cálculo do intervalo da nota Sol\n",
    "freq = 197.736\n",
    "lim_i_G = freq - 5.544\n",
    "lim_s_G = freq + 5.874\n",
    "print(\"Frequência da nota Sol:\", round(freq, 3))\n",
    "print(\"Limite inferior da nota Sol:\", round(lim_i_G, 3))\n",
    "print(\"Limite superior da nota Sol:\", round(lim_s_G, 3))"
   ]
  },
  {
   "cell_type": "markdown",
   "metadata": {},
   "source": [
    "Considerando o intervalo total de [132.0, 264.0], qual a probabilidade de uma nota aleatória estar entre [192.192, 203.61], que corresponde à nota Sol?"
   ]
  },
  {
   "cell_type": "code",
   "execution_count": 15,
   "metadata": {},
   "outputs": [
    {
     "data": {
      "image/png": "[encoded data removed]",
      "text/latex": [
       "$\\displaystyle \\left( w \\mapsto 0.00757575757575758 \\right)$"
      ],
      "text/plain": [
       "w ↦ 0.00757575757575758"
      ]
     },
     "execution_count": 15,
     "metadata": {},
     "output_type": "execute_result"
    }
   ],
   "source": [
    "# Definindo parâmetros\n",
    "var('w')\n",
    "\n",
    "# Definindo a função\n",
    "g = Lambda(w, prob_total)\n",
    "g"
   ]
  },
  {
   "cell_type": "code",
   "execution_count": 16,
   "metadata": {},
   "outputs": [
    {
     "name": "stdout",
     "output_type": "stream",
     "text": [
      "Resultado da integral:\n"
     ]
    },
    {
     "data": {
      "image/png": "[encoded data removed]",
      "text/latex": [
       "$\\displaystyle 0.0865$"
      ],
      "text/plain": [
       "0.0865000000000000"
      ]
     },
     "execution_count": 16,
     "metadata": {},
     "output_type": "execute_result"
    }
   ],
   "source": [
    "# Calculando a integral\n",
    "print(\"Resultado da integral:\")\n",
    "integrate(g(w), (w, lim_i_G, lim_s_G))"
   ]
  },
  {
   "cell_type": "markdown",
   "metadata": {},
   "source": [
    "Assim, a probabilidade de uma nota aleatória corresponder à nota Sol, é de 0.0865."
   ]
  },
  {
   "cell_type": "markdown",
   "metadata": {},
   "source": [
    "### Criando o gráfico da distribuição de probabilidade"
   ]
  },
  {
   "cell_type": "code",
   "execution_count": 17,
   "metadata": {},
   "outputs": [
    {
     "name": "stdout",
     "output_type": "stream",
     "text": [
      "Valores contínuos do intervalo total:\n",
      "[132.         132.13213213 132.26426426 132.3963964  132.52852853\n",
      " 132.66066066 132.79279279 132.92492492 133.05705706 133.18918919\n",
      " 133.32132132 133.45345345 133.58558559 133.71771772 133.84984985\n",
      " 133.98198198 134.11411411 134.24624625 134.37837838 134.51051051\n",
      " 134.64264264 134.77477477 134.90690691 135.03903904 135.17117117\n",
      " 135.3033033  135.43543544 135.56756757 135.6996997  135.83183183\n",
      " 135.96396396 136.0960961  136.22822823 136.36036036 136.49249249\n",
      " 136.62462462 136.75675676 136.88888889 137.02102102 137.15315315\n",
      " 137.28528529 137.41741742 137.54954955 137.68168168 137.81381381\n",
      " 137.94594595 138.07807808 138.21021021 138.34234234 138.47447447\n",
      " 138.60660661 138.73873874 138.87087087 139.003003   139.13513514\n",
      " 139.26726727 139.3993994  139.53153153 139.66366366 139.7957958\n",
      " 139.92792793 140.06006006 140.19219219 140.32432432 140.45645646\n",
      " 140.58858859 140.72072072 140.85285285 140.98498498 141.11711712\n",
      " 141.24924925 141.38138138 141.51351351 141.64564565 141.77777778\n",
      " 141.90990991 142.04204204 142.17417417 142.30630631 142.43843844\n",
      " 142.57057057 142.7027027  142.83483483 142.96696697 143.0990991\n",
      " 143.23123123 143.36336336 143.4954955  143.62762763 143.75975976\n",
      " 143.89189189 144.02402402 144.15615616 144.28828829 144.42042042\n",
      " 144.55255255 144.68468468 144.81681682 144.94894895 145.08108108\n",
      " 145.21321321 145.34534535 145.47747748 145.60960961 145.74174174\n",
      " 145.87387387 146.00600601 146.13813814 146.27027027 146.4024024\n",
      " 146.53453453 146.66666667 146.7987988  146.93093093 147.06306306\n",
      " 147.1951952  147.32732733 147.45945946 147.59159159 147.72372372\n",
      " 147.85585586 147.98798799 148.12012012 148.25225225 148.38438438\n",
      " 148.51651652 148.64864865 148.78078078 148.91291291 149.04504505\n",
      " 149.17717718 149.30930931 149.44144144 149.57357357 149.70570571\n",
      " 149.83783784 149.96996997 150.1021021  150.23423423 150.36636637\n",
      " 150.4984985  150.63063063 150.76276276 150.89489489 151.02702703\n",
      " 151.15915916 151.29129129 151.42342342 151.55555556 151.68768769\n",
      " 151.81981982 151.95195195 152.08408408 152.21621622 152.34834835\n",
      " 152.48048048 152.61261261 152.74474474 152.87687688 153.00900901\n",
      " 153.14114114 153.27327327 153.40540541 153.53753754 153.66966967\n",
      " 153.8018018  153.93393393 154.06606607 154.1981982  154.33033033\n",
      " 154.46246246 154.59459459 154.72672673 154.85885886 154.99099099\n",
      " 155.12312312 155.25525526 155.38738739 155.51951952 155.65165165\n",
      " 155.78378378 155.91591592 156.04804805 156.18018018 156.31231231\n",
      " 156.44444444 156.57657658 156.70870871 156.84084084 156.97297297\n",
      " 157.10510511 157.23723724 157.36936937 157.5015015  157.63363363\n",
      " 157.76576577 157.8978979  158.03003003 158.16216216 158.29429429\n",
      " 158.42642643 158.55855856 158.69069069 158.82282282 158.95495495\n",
      " 159.08708709 159.21921922 159.35135135 159.48348348 159.61561562\n",
      " 159.74774775 159.87987988 160.01201201 160.14414414 160.27627628\n",
      " 160.40840841 160.54054054 160.67267267 160.8048048  160.93693694\n",
      " 161.06906907 161.2012012  161.33333333 161.46546547 161.5975976\n",
      " 161.72972973 161.86186186 161.99399399 162.12612613 162.25825826\n",
      " 162.39039039 162.52252252 162.65465465 162.78678679 162.91891892\n",
      " 163.05105105 163.18318318 163.31531532 163.44744745 163.57957958\n",
      " 163.71171171 163.84384384 163.97597598 164.10810811 164.24024024\n",
      " 164.37237237 164.5045045  164.63663664 164.76876877 164.9009009\n",
      " 165.03303303 165.16516517 165.2972973  165.42942943 165.56156156\n",
      " 165.69369369 165.82582583 165.95795796 166.09009009 166.22222222\n",
      " 166.35435435 166.48648649 166.61861862 166.75075075 166.88288288\n",
      " 167.01501502 167.14714715 167.27927928 167.41141141 167.54354354\n",
      " 167.67567568 167.80780781 167.93993994 168.07207207 168.2042042\n",
      " 168.33633634 168.46846847 168.6006006  168.73273273 168.86486486\n",
      " 168.996997   169.12912913 169.26126126 169.39339339 169.52552553\n",
      " 169.65765766 169.78978979 169.92192192 170.05405405 170.18618619\n",
      " 170.31831832 170.45045045 170.58258258 170.71471471 170.84684685\n",
      " 170.97897898 171.11111111 171.24324324 171.37537538 171.50750751\n",
      " 171.63963964 171.77177177 171.9039039  172.03603604 172.16816817\n",
      " 172.3003003  172.43243243 172.56456456 172.6966967  172.82882883\n",
      " 172.96096096 173.09309309 173.22522523 173.35735736 173.48948949\n",
      " 173.62162162 173.75375375 173.88588589 174.01801802 174.15015015\n",
      " 174.28228228 174.41441441 174.54654655 174.67867868 174.81081081\n",
      " 174.94294294 175.07507508 175.20720721 175.33933934 175.47147147\n",
      " 175.6036036  175.73573574 175.86786787 176.         176.13213213\n",
      " 176.26426426 176.3963964  176.52852853 176.66066066 176.79279279\n",
      " 176.92492492 177.05705706 177.18918919 177.32132132 177.45345345\n",
      " 177.58558559 177.71771772 177.84984985 177.98198198 178.11411411\n",
      " 178.24624625 178.37837838 178.51051051 178.64264264 178.77477477\n",
      " 178.90690691 179.03903904 179.17117117 179.3033033  179.43543544\n",
      " 179.56756757 179.6996997  179.83183183 179.96396396 180.0960961\n",
      " 180.22822823 180.36036036 180.49249249 180.62462462 180.75675676\n",
      " 180.88888889 181.02102102 181.15315315 181.28528529 181.41741742\n",
      " 181.54954955 181.68168168 181.81381381 181.94594595 182.07807808\n",
      " 182.21021021 182.34234234 182.47447447 182.60660661 182.73873874\n",
      " 182.87087087 183.003003   183.13513514 183.26726727 183.3993994\n",
      " 183.53153153 183.66366366 183.7957958  183.92792793 184.06006006\n",
      " 184.19219219 184.32432432 184.45645646 184.58858859 184.72072072\n",
      " 184.85285285 184.98498498 185.11711712 185.24924925 185.38138138\n",
      " 185.51351351 185.64564565 185.77777778 185.90990991 186.04204204\n",
      " 186.17417417 186.30630631 186.43843844 186.57057057 186.7027027\n",
      " 186.83483483 186.96696697 187.0990991  187.23123123 187.36336336\n",
      " 187.4954955  187.62762763 187.75975976 187.89189189 188.02402402\n",
      " 188.15615616 188.28828829 188.42042042 188.55255255 188.68468468\n",
      " 188.81681682 188.94894895 189.08108108 189.21321321 189.34534535\n",
      " 189.47747748 189.60960961 189.74174174 189.87387387 190.00600601\n",
      " 190.13813814 190.27027027 190.4024024  190.53453453 190.66666667\n",
      " 190.7987988  190.93093093 191.06306306 191.1951952  191.32732733\n",
      " 191.45945946 191.59159159 191.72372372 191.85585586 191.98798799\n",
      " 192.12012012 192.25225225 192.38438438 192.51651652 192.64864865\n",
      " 192.78078078 192.91291291 193.04504505 193.17717718 193.30930931\n",
      " 193.44144144 193.57357357 193.70570571 193.83783784 193.96996997\n",
      " 194.1021021  194.23423423 194.36636637 194.4984985  194.63063063\n",
      " 194.76276276 194.89489489 195.02702703 195.15915916 195.29129129\n",
      " 195.42342342 195.55555556 195.68768769 195.81981982 195.95195195\n",
      " 196.08408408 196.21621622 196.34834835 196.48048048 196.61261261\n",
      " 196.74474474 196.87687688 197.00900901 197.14114114 197.27327327\n",
      " 197.40540541 197.53753754 197.66966967 197.8018018  197.93393393\n",
      " 198.06606607 198.1981982  198.33033033 198.46246246 198.59459459\n",
      " 198.72672673 198.85885886 198.99099099 199.12312312 199.25525526\n",
      " 199.38738739 199.51951952 199.65165165 199.78378378 199.91591592\n",
      " 200.04804805 200.18018018 200.31231231 200.44444444 200.57657658\n",
      " 200.70870871 200.84084084 200.97297297 201.10510511 201.23723724\n",
      " 201.36936937 201.5015015  201.63363363 201.76576577 201.8978979\n",
      " 202.03003003 202.16216216 202.29429429 202.42642643 202.55855856\n",
      " 202.69069069 202.82282282 202.95495495 203.08708709 203.21921922\n",
      " 203.35135135 203.48348348 203.61561562 203.74774775 203.87987988\n",
      " 204.01201201 204.14414414 204.27627628 204.40840841 204.54054054\n",
      " 204.67267267 204.8048048  204.93693694 205.06906907 205.2012012\n",
      " 205.33333333 205.46546547 205.5975976  205.72972973 205.86186186\n",
      " 205.99399399 206.12612613 206.25825826 206.39039039 206.52252252\n",
      " 206.65465465 206.78678679 206.91891892 207.05105105 207.18318318\n",
      " 207.31531532 207.44744745 207.57957958 207.71171171 207.84384384\n",
      " 207.97597598 208.10810811 208.24024024 208.37237237 208.5045045\n",
      " 208.63663664 208.76876877 208.9009009  209.03303303 209.16516517\n",
      " 209.2972973  209.42942943 209.56156156 209.69369369 209.82582583\n",
      " 209.95795796 210.09009009 210.22222222 210.35435435 210.48648649\n",
      " 210.61861862 210.75075075 210.88288288 211.01501502 211.14714715\n",
      " 211.27927928 211.41141141 211.54354354 211.67567568 211.80780781\n",
      " 211.93993994 212.07207207 212.2042042  212.33633634 212.46846847\n",
      " 212.6006006  212.73273273 212.86486486 212.996997   213.12912913\n",
      " 213.26126126 213.39339339 213.52552553 213.65765766 213.78978979\n",
      " 213.92192192 214.05405405 214.18618619 214.31831832 214.45045045\n",
      " 214.58258258 214.71471471 214.84684685 214.97897898 215.11111111\n",
      " 215.24324324 215.37537538 215.50750751 215.63963964 215.77177177\n",
      " 215.9039039  216.03603604 216.16816817 216.3003003  216.43243243\n",
      " 216.56456456 216.6966967  216.82882883 216.96096096 217.09309309\n",
      " 217.22522523 217.35735736 217.48948949 217.62162162 217.75375375\n",
      " 217.88588589 218.01801802 218.15015015 218.28228228 218.41441441\n",
      " 218.54654655 218.67867868 218.81081081 218.94294294 219.07507508\n",
      " 219.20720721 219.33933934 219.47147147 219.6036036  219.73573574\n",
      " 219.86786787 220.         220.13213213 220.26426426 220.3963964\n",
      " 220.52852853 220.66066066 220.79279279 220.92492492 221.05705706\n",
      " 221.18918919 221.32132132 221.45345345 221.58558559 221.71771772\n",
      " 221.84984985 221.98198198 222.11411411 222.24624625 222.37837838\n",
      " 222.51051051 222.64264264 222.77477477 222.90690691 223.03903904\n",
      " 223.17117117 223.3033033  223.43543544 223.56756757 223.6996997\n",
      " 223.83183183 223.96396396 224.0960961  224.22822823 224.36036036\n",
      " 224.49249249 224.62462462 224.75675676 224.88888889 225.02102102\n",
      " 225.15315315 225.28528529 225.41741742 225.54954955 225.68168168\n",
      " 225.81381381 225.94594595 226.07807808 226.21021021 226.34234234\n",
      " 226.47447447 226.60660661 226.73873874 226.87087087 227.003003\n",
      " 227.13513514 227.26726727 227.3993994  227.53153153 227.66366366\n",
      " 227.7957958  227.92792793 228.06006006 228.19219219 228.32432432\n",
      " 228.45645646 228.58858859 228.72072072 228.85285285 228.98498498\n",
      " 229.11711712 229.24924925 229.38138138 229.51351351 229.64564565\n",
      " 229.77777778 229.90990991 230.04204204 230.17417417 230.30630631\n",
      " 230.43843844 230.57057057 230.7027027  230.83483483 230.96696697\n",
      " 231.0990991  231.23123123 231.36336336 231.4954955  231.62762763\n",
      " 231.75975976 231.89189189 232.02402402 232.15615616 232.28828829\n",
      " 232.42042042 232.55255255 232.68468468 232.81681682 232.94894895\n",
      " 233.08108108 233.21321321 233.34534535 233.47747748 233.60960961\n",
      " 233.74174174 233.87387387 234.00600601 234.13813814 234.27027027\n",
      " 234.4024024  234.53453453 234.66666667 234.7987988  234.93093093\n",
      " 235.06306306 235.1951952  235.32732733 235.45945946 235.59159159\n",
      " 235.72372372 235.85585586 235.98798799 236.12012012 236.25225225\n",
      " 236.38438438 236.51651652 236.64864865 236.78078078 236.91291291\n",
      " 237.04504505 237.17717718 237.30930931 237.44144144 237.57357357\n",
      " 237.70570571 237.83783784 237.96996997 238.1021021  238.23423423\n",
      " 238.36636637 238.4984985  238.63063063 238.76276276 238.89489489\n",
      " 239.02702703 239.15915916 239.29129129 239.42342342 239.55555556\n",
      " 239.68768769 239.81981982 239.95195195 240.08408408 240.21621622\n",
      " 240.34834835 240.48048048 240.61261261 240.74474474 240.87687688\n",
      " 241.00900901 241.14114114 241.27327327 241.40540541 241.53753754\n",
      " 241.66966967 241.8018018  241.93393393 242.06606607 242.1981982\n",
      " 242.33033033 242.46246246 242.59459459 242.72672673 242.85885886\n",
      " 242.99099099 243.12312312 243.25525526 243.38738739 243.51951952\n",
      " 243.65165165 243.78378378 243.91591592 244.04804805 244.18018018\n",
      " 244.31231231 244.44444444 244.57657658 244.70870871 244.84084084\n",
      " 244.97297297 245.10510511 245.23723724 245.36936937 245.5015015\n",
      " 245.63363363 245.76576577 245.8978979  246.03003003 246.16216216\n",
      " 246.29429429 246.42642643 246.55855856 246.69069069 246.82282282\n",
      " 246.95495495 247.08708709 247.21921922 247.35135135 247.48348348\n",
      " 247.61561562 247.74774775 247.87987988 248.01201201 248.14414414\n",
      " 248.27627628 248.40840841 248.54054054 248.67267267 248.8048048\n",
      " 248.93693694 249.06906907 249.2012012  249.33333333 249.46546547\n",
      " 249.5975976  249.72972973 249.86186186 249.99399399 250.12612613\n",
      " 250.25825826 250.39039039 250.52252252 250.65465465 250.78678679\n",
      " 250.91891892 251.05105105 251.18318318 251.31531532 251.44744745\n",
      " 251.57957958 251.71171171 251.84384384 251.97597598 252.10810811\n",
      " 252.24024024 252.37237237 252.5045045  252.63663664 252.76876877\n",
      " 252.9009009  253.03303303 253.16516517 253.2972973  253.42942943\n",
      " 253.56156156 253.69369369 253.82582583 253.95795796 254.09009009\n",
      " 254.22222222 254.35435435 254.48648649 254.61861862 254.75075075\n",
      " 254.88288288 255.01501502 255.14714715 255.27927928 255.41141141\n",
      " 255.54354354 255.67567568 255.80780781 255.93993994 256.07207207\n",
      " 256.2042042  256.33633634 256.46846847 256.6006006  256.73273273\n",
      " 256.86486486 256.996997   257.12912913 257.26126126 257.39339339\n",
      " 257.52552553 257.65765766 257.78978979 257.92192192 258.05405405\n",
      " 258.18618619 258.31831832 258.45045045 258.58258258 258.71471471\n",
      " 258.84684685 258.97897898 259.11111111 259.24324324 259.37537538\n",
      " 259.50750751 259.63963964 259.77177177 259.9039039  260.03603604\n",
      " 260.16816817 260.3003003  260.43243243 260.56456456 260.6966967\n",
      " 260.82882883 260.96096096 261.09309309 261.22522523 261.35735736\n",
      " 261.48948949 261.62162162 261.75375375 261.88588589 262.01801802\n",
      " 262.15015015 262.28228228 262.41441441 262.54654655 262.67867868\n",
      " 262.81081081 262.94294294 263.07507508 263.20720721 263.33933934\n",
      " 263.47147147 263.6036036  263.73573574 263.86786787 264.        ]\n"
     ]
    }
   ],
   "source": [
    "# Geração de 1000 valores sequenciais e contínuos entre 132.0 Hz e 264.0 Hz\n",
    "n = 1000\n",
    "np.random.seed(7)\n",
    "G = np.linspace(lim_i_t, lim_s_t, 1000, True)\n",
    "print(\"Valores contínuos do intervalo total:\")\n",
    "print(G)"
   ]
  },
  {
   "cell_type": "code",
   "execution_count": 18,
   "metadata": {},
   "outputs": [
    {
     "data": {
      "text/plain": [
       "Int64Index([456, 457, 458, 459, 460, 461, 462, 463, 464, 465, 466, 467, 468,\n",
       "            469, 470, 471, 472, 473, 474, 475, 476, 477, 478, 479, 480, 481,\n",
       "            482, 483, 484, 485, 486, 487, 488, 489, 490, 491, 492, 493, 494,\n",
       "            495, 496, 497, 498, 499, 500, 501, 502, 503, 504, 505, 506, 507,\n",
       "            508, 509, 510, 511, 512, 513, 514, 515, 516, 517, 518, 519, 520,\n",
       "            521, 522, 523, 524, 525, 526, 527, 528, 529, 530, 531, 532, 533,\n",
       "            534, 535, 536, 537, 538, 539, 540, 541],\n",
       "           dtype='int64')"
      ]
     },
     "execution_count": 18,
     "metadata": {},
     "output_type": "execute_result"
    }
   ],
   "source": [
    "# Extraindo índices do intervalo\n",
    "import pandas as pd\n",
    "G_series = pd.Series(G)\n",
    "index_G = G_series.loc[(G_series>192.192) & (G_series<203.61)].index\n",
    "index_G"
   ]
  },
  {
   "cell_type": "code",
   "execution_count": 19,
   "metadata": {},
   "outputs": [],
   "source": [
    "# Criando série com os valores da probabilidade 0.0076 entre 192.192 e 203.61\n",
    "prob_G = pd.Series([0] * 1000)\n",
    "prob_G.iloc[index_G]=prob_total"
   ]
  },
  {
   "cell_type": "code",
   "execution_count": 20,
   "metadata": {},
   "outputs": [
    {
     "data": {
      "image/png": "[encoded data removed]",
      "text/plain": [
       "<Figure size 432x288 with 1 Axes>"
      ]
     },
     "metadata": {
      "needs_background": "light"
     },
     "output_type": "display_data"
    }
   ],
   "source": [
    "# Criando o gráfico do histograma e da curva de probabilidade\n",
    "plt.hist(G, density=True, facecolor='blue', alpha=0.7)\n",
    "plt.plot(G, prob_G, linewidth=2, color='r')\n",
    "\n",
    "# Aumentando limite à esquerda e à direita do eixo das ordenadas e inserindo grid\n",
    "plt.xlim(right=270)\n",
    "plt.xlim(left=126)\n",
    "plt.grid(True)\n",
    "\n",
    "# Mostrando o gráfico\n",
    "plt.title(\"Distribuição Uniforme Contínua no Intervalo [132.0, 264.0] \\n com destaque da probabilidade da nota Sol\")\n",
    "plt.xlabel(\"Valores (w)\")\n",
    "plt.ylabel(\"Densidade\")\n",
    "plt.show()"
   ]
  },
  {
   "cell_type": "markdown",
   "metadata": {},
   "source": [
    "A área da linha vermelha corresponde à probabilidade de obter a nota Sol (frequência entre 192.192 e 203.61 Hz) a partir de qualquer nota na escala musical. Conforme calculado acima, essa área corresponde à integral do intervalo: 0.0865. "
   ]
  }
 ],
 "metadata": {
  "colab": {
   "collapsed_sections": [],
   "name": "unb-ppca-aedi-tarefa-2.ipynb",
   "provenance": []
  },
  "kernelspec": {
   "display_name": "Python 3",
   "language": "python",
   "name": "python3"
  },
  "language_info": {
   "codemirror_mode": {
    "name": "ipython",
    "version": 3
   },
   "file_extension": ".py",
   "mimetype": "text/x-python",
   "name": "python",
   "nbconvert_exporter": "python",
   "pygments_lexer": "ipython3",
   "version": "3.7.6"
  }
 },
 "nbformat": 4,
 "nbformat_minor": 1
}
